{
 "cells": [
  {
   "cell_type": "code",
   "execution_count": 2,
   "metadata": {
    "collapsed": true
   },
   "outputs": [],
   "source": [
    "var mongoose = require('mongoose')\n",
    "var data = require ('./data.json')"
   ]
  },
  {
   "cell_type": "code",
   "execution_count": 3,
   "metadata": {
    "code_folding": [],
    "collapsed": false
   },
   "outputs": [
    {
     "data": {
      "text/plain": [
       "{ [Function: model]\n",
       "  hooks: Kareem { _pres: {}, _posts: {} },\n",
       "  base: \n",
       "   Mongoose {\n",
       "     connections: [ [Object] ],\n",
       "     plugins: [],\n",
       "     models: { parks: [Circular] },\n",
       "     modelSchemas: { parks: [Object] },\n",
       "     options: { pluralization: true } },\n",
       "  modelName: 'parks',\n",
       "  model: [Function: model],\n",
       "  db: \n",
       "   NativeConnection {\n",
       "     base: \n",
       "      Mongoose {\n",
       "        connections: [Object],\n",
       "        plugins: [],\n",
       "        models: [Object],\n",
       "        modelSchemas: [Object],\n",
       "        options: [Object] },\n",
       "     collections: { parks: [Object] },\n",
       "     models: { parks: [Circular] },\n",
       "     config: { autoIndex: true },\n",
       "     replica: false,\n",
       "     hosts: null,\n",
       "     host: null,\n",
       "     port: null,\n",
       "     user: null,\n",
       "     pass: null,\n",
       "     name: null,\n",
       "     options: null,\n",
       "     otherDbs: [],\n",
       "     _readyState: 0,\n",
       "     _closeCalled: false,\n",
       "     _hasOpened: false,\n",
       "     _listening: false },\n",
       "  discriminators: undefined,\n",
       "  schema: \n",
       "   Schema {\n",
       "     obj: \n",
       "      { geometry: [Object],\n",
       "        address: [Function: String],\n",
       "        name: [Function: String] },\n",
       "     paths: \n",
       "      { 'geometry.type': [Object],\n",
       "        'geometry.coordinates': [Object],\n",
       "        address: [Object],\n",
       "        name: [Object],\n",
       "        _id: [Object],\n",
       "        __v: [Object] },\n",
       "     subpaths: {},\n",
       "     virtuals: { id: [Object] },\n",
       "     singleNestedPaths: {},\n",
       "     nested: { geometry: true },\n",
       "     inherits: {},\n",
       "     callQueue: [ [Object], [Object], [Object], [Object] ],\n",
       "     _indexes: [],\n",
       "     methods: {},\n",
       "     statics: {},\n",
       "     tree: \n",
       "      { geometry: [Object],\n",
       "        address: [Function: String],\n",
       "        name: [Function: String],\n",
       "        _id: [Object],\n",
       "        id: [Object],\n",
       "        __v: [Function: Number] },\n",
       "     query: {},\n",
       "     childSchemas: [],\n",
       "     _plugins: { saveSubdocs: true, validateBeforeSave: true },\n",
       "     s: { hooks: [Object], kareemHooks: [Object] },\n",
       "     options: \n",
       "      { retainKeyOrder: false,\n",
       "        typeKey: 'type',\n",
       "        id: true,\n",
       "        noVirtualId: false,\n",
       "        _id: true,\n",
       "        noId: false,\n",
       "        validateBeforeSave: true,\n",
       "        read: null,\n",
       "        shardKey: null,\n",
       "        autoIndex: null,\n",
       "        minimize: true,\n",
       "        discriminatorKey: '__t',\n",
       "        versionKey: '__v',\n",
       "        capped: false,\n",
       "        bufferCommands: true,\n",
       "        strict: true,\n",
       "        pluralization: true },\n",
       "     '$globalPluginsApplied': true },\n",
       "  collection: \n",
       "   NativeCollection {\n",
       "     collection: null,\n",
       "     opts: { bufferCommands: true, capped: false },\n",
       "     name: 'parks',\n",
       "     collectionName: 'parks',\n",
       "     conn: \n",
       "      NativeConnection {\n",
       "        base: [Object],\n",
       "        collections: [Object],\n",
       "        models: [Object],\n",
       "        config: [Object],\n",
       "        replica: false,\n",
       "        hosts: null,\n",
       "        host: null,\n",
       "        port: null,\n",
       "        user: null,\n",
       "        pass: null,\n",
       "        name: null,\n",
       "        options: null,\n",
       "        otherDbs: [],\n",
       "        _readyState: 0,\n",
       "        _closeCalled: false,\n",
       "        _hasOpened: false,\n",
       "        _listening: false },\n",
       "     queue: [],\n",
       "     buffer: true,\n",
       "     emitter: \n",
       "      EventEmitter {\n",
       "        domain: null,\n",
       "        _events: {},\n",
       "        _eventsCount: 0,\n",
       "        _maxListeners: undefined } },\n",
       "  Query: \n",
       "   { [Function]\n",
       "     base: \n",
       "      Query {\n",
       "        toConstructor: [Function: toConstructor],\n",
       "        setOptions: [Function],\n",
       "        collection: [Function: collection],\n",
       "        '$where': [Function],\n",
       "        where: [Function],\n",
       "        equals: [Function: equals],\n",
       "        eq: [Function: eq],\n",
       "        or: [Function: or],\n",
       "        nor: [Function: nor],\n",
       "        and: [Function: and],\n",
       "        gt: [Function],\n",
       "        gte: [Function],\n",
       "        lt: [Function],\n",
       "        lte: [Function],\n",
       "        ne: [Function],\n",
       "        in: [Function],\n",
       "        nin: [Function],\n",
       "        all: [Function],\n",
       "        regex: [Function],\n",
       "        size: [Function],\n",
       "        maxDistance: [Function],\n",
       "        minDistance: [Function],\n",
       "        mod: [Function],\n",
       "        exists: [Function],\n",
       "        elemMatch: [Function],\n",
       "        within: [Function: within],\n",
       "        box: [Function],\n",
       "        polygon: [Function],\n",
       "        circle: [Function],\n",
       "        near: [Function: near],\n",
       "        intersects: [Function: intersects],\n",
       "        geometry: [Function: geometry],\n",
       "        select: [Function: select],\n",
       "        slice: [Function],\n",
       "        sort: [Function],\n",
       "        limit: [Function],\n",
       "        skip: [Function],\n",
       "        maxScan: [Function],\n",
       "        batchSize: [Function],\n",
       "        comment: [Function],\n",
       "        maxTime: [Function],\n",
       "        snapshot: [Function],\n",
       "        hint: [Function],\n",
       "        slaveOk: [Function],\n",
       "        read: [Function],\n",
       "        tailable: [Function],\n",
       "        merge: [Function],\n",
       "        find: [Function],\n",
       "        cursor: [Function: cursor],\n",
       "        findOne: [Function],\n",
       "        count: [Function],\n",
       "        distinct: [Function],\n",
       "        update: [Function: update],\n",
       "        updateMany: [Function: updateMany],\n",
       "        updateOne: [Function: updateOne],\n",
       "        replaceOne: [Function: replaceOne],\n",
       "        remove: [Function],\n",
       "        deleteOne: [Function],\n",
       "        deleteMany: [Function],\n",
       "        findOneAndUpdate: [Function],\n",
       "        findOneAndRemove: [Function],\n",
       "        _findAndModify: [Function],\n",
       "        _wrapCallback: [Function],\n",
       "        setTraceFunction: [Function],\n",
       "        exec: [Function: exec],\n",
       "        thunk: [Function],\n",
       "        then: [Function],\n",
       "        stream: [Function],\n",
       "        selected: [Function: selected],\n",
       "        selectedInclusively: [Function: selectedInclusively],\n",
       "        selectedExclusively: [Function: selectedExclusively],\n",
       "        _mergeUpdate: [Function],\n",
       "        _optionsForExec: [Function],\n",
       "        _fieldsForExec: [Function],\n",
       "        _updateForExec: [Function],\n",
       "        _ensurePath: [Function],\n",
       "        _validate: [Function] } },\n",
       "  '$__insertMany': [Function],\n",
       "  insertMany: [Function] }"
      ]
     },
     "execution_count": 3,
     "metadata": {},
     "output_type": "execute_result"
    }
   ],
   "source": [
    "var res = data.results\n",
    "\n",
    "var parkSchema = new mongoose.Schema({\n",
    "    geometry: {\n",
    "      type: {type: String, default: 'Point'},\n",
    "      coordinates: {type: [Number], index: '2dsphere'}\n",
    "    },\n",
    "    address: String,\n",
    "    name: String\n",
    "}) \n",
    "\n",
    "parkModel = mongoose.model('parks', parkSchema)\n"
   ]
  },
  {
   "cell_type": "code",
   "execution_count": 15,
   "metadata": {
    "code_folding": [],
    "collapsed": false
   },
   "outputs": [
    {
     "data": {
      "text/plain": [
       "[ { geometry: { coordinates: [Object] },\n",
       "    name: 'Parque de las Cigarras',\n",
       "    address: undefined },\n",
       "  { geometry: { coordinates: [Object] },\n",
       "    name: 'Parque Santander',\n",
       "    address: undefined },\n",
       "  { geometry: { coordinates: [Object] },\n",
       "    name: 'Parque San Pío',\n",
       "    address: undefined },\n",
       "  { geometry: { coordinates: [Object] },\n",
       "    name: 'Parque del Agua',\n",
       "    address: undefined },\n",
       "  { geometry: { coordinates: [Object] },\n",
       "    name: 'Parque Los Leones',\n",
       "    address: undefined },\n",
       "  { geometry: { coordinates: [Object] },\n",
       "    name: 'Parque Centenario',\n",
       "    address: undefined },\n",
       "  { geometry: { coordinates: [Object] },\n",
       "    name: 'Parque García Rovira',\n",
       "    address: undefined },\n",
       "  { geometry: { coordinates: [Object] },\n",
       "    name: 'Parque Antonia Santos',\n",
       "    address: undefined },\n",
       "  { geometry: { coordinates: [Object] },\n",
       "    name: 'Parque Mejoras Públicas',\n",
       "    address: undefined },\n",
       "  { geometry: { coordinates: [Object] },\n",
       "    name: 'Parque de Las Mojarras',\n",
       "    address: undefined },\n",
       "  { geometry: { coordinates: [Object] },\n",
       "    name: 'Parque Ecológico La Flora',\n",
       "    address: undefined },\n",
       "  { geometry: { coordinates: [Object] },\n",
       "    name: 'Parque Las Palmas',\n",
       "    address: undefined },\n",
       "  { geometry: { coordinates: [Object] },\n",
       "    name: 'Parque San Francisco',\n",
       "    address: undefined },\n",
       "  { geometry: { coordinates: [Object] },\n",
       "    name: 'Parque De Los Niños',\n",
       "    address: undefined },\n",
       "  { geometry: { coordinates: [Object] },\n",
       "    name: 'Parque Los Sarrapios',\n",
       "    address: undefined },\n",
       "  { geometry: { coordinates: [Object] },\n",
       "    name: 'Parque Turbay',\n",
       "    address: undefined },\n",
       "  { geometry: { coordinates: [Object] },\n",
       "    name: 'Parque Ciudad Bolívar',\n",
       "    address: undefined },\n",
       "  { geometry: { coordinates: [Object] },\n",
       "    name: 'Parque Nacional del Chicamocha',\n",
       "    address: undefined },\n",
       "  { geometry: { coordinates: [Object] },\n",
       "    name: 'Parque Corona',\n",
       "    address: undefined },\n",
       "  { geometry: { coordinates: [Object] },\n",
       "    name: 'Parque Conucos',\n",
       "    address: undefined } ]"
      ]
     },
     "execution_count": 15,
     "metadata": {},
     "output_type": "execute_result"
    }
   ],
   "source": [
    "parks = res.map((el) => {\n",
    "    return {\n",
    "        geometry: {\n",
    "            coordinates: [el.geometry.location.lng, el.geometry.location.lat]\n",
    "        },\n",
    "        name: el.name,\n",
    "        address: el.ormatted_address\n",
    "    }\n",
    "})\n",
    " "
   ]
  },
  {
   "cell_type": "code",
   "execution_count": 16,
   "metadata": {
    "collapsed": false
   },
   "outputs": [
    {
     "data": {
      "text/plain": [
       "Promise {\n",
       "  emitter: \n",
       "   EventEmitter {\n",
       "     domain: null,\n",
       "     _events: {},\n",
       "     _eventsCount: 0,\n",
       "     _maxListeners: undefined },\n",
       "  emitted: {},\n",
       "  ended: false }"
      ]
     },
     "execution_count": 16,
     "metadata": {},
     "output_type": "execute_result"
    },
    {
     "name": "stdout",
     "output_type": "stream",
     "text": [
      "ok\n"
     ]
    }
   ],
   "source": [
    "mongoose.connect('mongodb://localhost:27017/ejemplo_pi')\n",
    "    .then(() => console.log('ok'), (err) => console.log(err))"
   ]
  },
  {
   "cell_type": "code",
   "execution_count": 17,
   "metadata": {
    "collapsed": false
   },
   "outputs": [
    {
     "data": {
      "text/plain": [
       "Promise {\n",
       "  emitter: \n",
       "   EventEmitter {\n",
       "     domain: null,\n",
       "     _events: {},\n",
       "     _eventsCount: 0,\n",
       "     _maxListeners: undefined },\n",
       "  emitted: {},\n",
       "  ended: false }"
      ]
     },
     "execution_count": 17,
     "metadata": {},
     "output_type": "execute_result"
    }
   ],
   "source": [
    "parkModel\n",
    "    .create(parks).then(()=> console.log('saved'), (err) => console.log(err))"
   ]
  },
  {
   "cell_type": "code",
   "execution_count": 18,
   "metadata": {
    "collapsed": false
   },
   "outputs": [
    {
     "data": {
      "text/plain": [
       "Promise {\n",
       "  emitter: \n",
       "   EventEmitter {\n",
       "     domain: null,\n",
       "     _events: {},\n",
       "     _eventsCount: 0,\n",
       "     _maxListeners: undefined },\n",
       "  emitted: {},\n",
       "  ended: false }"
      ]
     },
     "execution_count": 18,
     "metadata": {},
     "output_type": "execute_result"
    },
    {
     "name": "stdout",
     "output_type": "stream",
     "text": [
      "ok\n",
      "saved\n"
     ]
    }
   ],
   "source": [
    "mongoose.disconnect().then(() => console.log('ok'), (err) => console.log(err))"
   ]
  },
  {
   "cell_type": "code",
   "execution_count": null,
   "metadata": {
    "collapsed": false
   },
   "outputs": [],
   "source": []
  }
 ],
 "metadata": {
  "kernelspec": {
   "display_name": "Javascript (Node.js)",
   "language": "javascript",
   "name": "javascript"
  },
  "language_info": {
   "file_extension": ".js",
   "mimetype": "application/javascript",
   "name": "javascript",
   "version": "6.9.4"
  }
 },
 "nbformat": 4,
 "nbformat_minor": 2
}
